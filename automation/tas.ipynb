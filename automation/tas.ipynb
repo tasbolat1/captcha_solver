{
 "cells": [
  {
   "cell_type": "code",
   "execution_count": 1,
   "id": "mexican-python",
   "metadata": {},
   "outputs": [],
   "source": [
    "import re\n",
    "import mechanize\n",
    "import ssl\n",
    "\n",
    "# temporary solution\n",
    "ssl._create_default_https_context = ssl._create_unverified_context"
   ]
  },
  {
   "cell_type": "code",
   "execution_count": 2,
   "id": "noble-removal",
   "metadata": {},
   "outputs": [],
   "source": [
    "br = mechanize.Browser()\n",
    "br.set_handle_robots(False)\n",
    "br.set_handle_refresh(False)  # can sometimes hang without this"
   ]
  },
  {
   "cell_type": "code",
   "execution_count": 3,
   "id": "severe-launch",
   "metadata": {},
   "outputs": [
    {
     "name": "stdout",
     "output_type": "stream",
     "text": [
      "CPU times: user 4.27 ms, sys: 5.21 ms, total: 9.49 ms\n",
      "Wall time: 2.26 s\n"
     ]
    }
   ],
   "source": [
    "%%time\n",
    "response = br.open(\"https://alan-trade.kz/#/\")"
   ]
  },
  {
   "cell_type": "code",
   "execution_count": 4,
   "id": "simple-speaker",
   "metadata": {},
   "outputs": [],
   "source": [
    "# myline = response.readline()\n",
    "# while myline:\n",
    "#     print(myline)\n",
    "#     myline = response.readline()"
   ]
  },
  {
   "cell_type": "code",
   "execution_count": 5,
   "id": "configured-cooking",
   "metadata": {},
   "outputs": [],
   "source": [
    "# br.find_control(type=\"checkbox\")"
   ]
  },
  {
   "cell_type": "code",
   "execution_count": 6,
   "id": "frozen-rotation",
   "metadata": {},
   "outputs": [
    {
     "data": {
      "text/plain": [
       "b'<!doctype html><html lang=\"en\"><head><meta charset=\"utf-8\"><title>Alan-Trade | \\xd0\\xad\\xd0\\xbb\\xd0\\xb5\\xd0\\xba\\xd1\\x82\\xd1\\x80\\xd0\\xbe\\xd0\\xbd\\xd0\\xbd\\xd0\\xb0\\xd1\\x8f \\xd1\\x82\\xd0\\xbe\\xd1\\x80\\xd0\\xb3\\xd0\\xbe\\xd0\\xb2\\xd0\\xb0\\xd1\\x8f \\xd0\\xbf\\xd0\\xbb\\xd0\\xbe\\xd1\\x89\\xd0\\xb0\\xd0\\xb4\\xd0\\xba\\xd0\\xb0</title><base href=\"/\"><link href=\"https://fonts.googleapis.com/css?family=Roboto:100,300,400,500,700,900\" rel=\"stylesheet\"><meta name=\"viewport\" content=\"width=device-width,initial-scale=1\"><!--    <link rel=\"icon\" type=\"image/x-icon\" href=\"favicon.ico\">--><link href=\"styles.6809de23bb1b8ca8ae83.bundle.css\" rel=\"stylesheet\"/></head><body><app-root></app-root><!--&lt;!&ndash; Yandex.Metrika counter &ndash;&gt;--><!--<script type=\"text/javascript\" >--><!--    (function(m,e,t,r,i,k,a){m[i]=m[i]||function(){(m[i].a=m[i].a||[]).push(arguments)};--><!--        m[i].l=1*new Date();k=e.createElement(t),a=e.getElementsByTagName(t)[0],k.async=1,k.src=r,a.parentNode.insertBefore(k,a)})--><!--    (window, document, \"script\", \"https://mc.yandex.ru/metrika/tag.js\", \"ym\");--><!--    ym(54028960, \"init\", {--><!--        clickmap:true,--><!--        trackLinks:true,--><!--        accurateTrackBounce:true,--><!--        webvisor:true--><!--    });--><!--</script>--><!--<noscript><div><img src=\"https://mc.yandex.ru/watch/54028960\" style=\"position:absolute; left:-9999px;\" alt=\"\" /></div></noscript>--><!--&lt;!&ndash; /Yandex.Metrika counter &ndash;&gt;--><script type=\"text/javascript\" src=\"inline.6e83dd1ed59b83deff33.bundle.js\"></script><script type=\"text/javascript\" src=\"polyfills.7b9c1df4af6f038cb67b.bundle.js\"></script><script type=\"text/javascript\" src=\"scripts.04da452afd00bffae5fb.bundle.js\"></script><script type=\"text/javascript\" src=\"main.868b4a1ad3ab6c85799a.bundle.js\"></script></body></html>'"
      ]
     },
     "execution_count": 6,
     "metadata": {},
     "output_type": "execute_result"
    }
   ],
   "source": [
    "response.read()"
   ]
  },
  {
   "cell_type": "code",
   "execution_count": null,
   "id": "breeding-basketball",
   "metadata": {},
   "outputs": [],
   "source": []
  }
 ],
 "metadata": {
  "kernelspec": {
   "display_name": "Python 3",
   "language": "python",
   "name": "python3"
  },
  "language_info": {
   "codemirror_mode": {
    "name": "ipython",
    "version": 3
   },
   "file_extension": ".py",
   "mimetype": "text/x-python",
   "name": "python",
   "nbconvert_exporter": "python",
   "pygments_lexer": "ipython3",
   "version": "3.7.4"
  }
 },
 "nbformat": 4,
 "nbformat_minor": 5
}
