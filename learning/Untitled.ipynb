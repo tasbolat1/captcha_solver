{
 "cells": [
  {
   "cell_type": "code",
   "execution_count": 1,
   "id": "severe-being",
   "metadata": {},
   "outputs": [],
   "source": [
    "import torch\n",
    "from torch import nn\n",
    "import torch.nn.functional as F\n",
    "\n",
    "import matplotlib.pyplot as plt\n",
    "import numpy as np\n",
    "import matplotlib.pyplot as plt\n",
    "from utils import CaptchaDataset2, StackedLSTM, total_chars, get_string_label, plot_sample\n",
    "\n",
    "from itertools import groupby\n",
    "BLANK_LABEL = total_chars"
   ]
  },
  {
   "cell_type": "code",
   "execution_count": 2,
   "id": "baking-medicaid",
   "metadata": {},
   "outputs": [],
   "source": [
    "test_dataset = CaptchaDataset2('../data/original')\n",
    "device = torch.device('cuda:2' if torch.cuda.is_available() else 'cpu')"
   ]
  },
  {
   "cell_type": "code",
   "execution_count": 40,
   "id": "municipal-korea",
   "metadata": {},
   "outputs": [
    {
     "data": {
      "text/plain": [
       "torch.Size([1, 1, 30, 140])"
      ]
     },
     "execution_count": 40,
     "metadata": {},
     "output_type": "execute_result"
    }
   ],
   "source": [
    "a, b = test_dataset[0]\n",
    "a = a.unsqueeze(0)\n",
    "a.shape"
   ]
  },
  {
   "cell_type": "code",
   "execution_count": 50,
   "id": "separate-wilderness",
   "metadata": {},
   "outputs": [],
   "source": [
    "class CaptchaModel(nn.Module):\n",
    "    def __init__(self, input_size=30, output_size=total_chars+1, hidden_size=64, num_layers=2):\n",
    "        super(CaptchaModel, self).__init__()\n",
    "        self.conv1 = nn.Conv2d(1, 128, kernel_size=3, padding=1)\n",
    "        self.max_pool1 = nn.MaxPool2d(kernel_size=(2,2))\n",
    "        \n",
    "        self.conv2 = nn.Conv2d(128, 64, kernel_size=3, padding=1)\n",
    "        self.max_pool2 = nn.MaxPool2d(kernel_size=(2,2))\n",
    "        \n",
    "        self.linear1 = nn.Linear(448, hidden_size)\n",
    "        \n",
    "        \n",
    "        self.drop1 = nn.Dropout()\n",
    "        \n",
    "        self.gru = nn.GRU(hidden_size, 32, bidirectional=True, num_layers=num_layers, dropout=0.5)\n",
    "        self.fc = nn.Linear(hidden_size, output_size)\n",
    "        \n",
    "    def forward(self, inputs):\n",
    "        batch_size, c, seq_len, input_size = inputs.shape\n",
    "        #print('input', inputs.size())\n",
    "        \n",
    "        # convolution part\n",
    "        x = F.relu(self.conv1(inputs)) # 128, 30, 140\n",
    "        # print('conv1', x.size())\n",
    "        x = self.max_pool1(x) # 128, 15, 70\n",
    "        # print('max1', x.size())\n",
    "        x = F.relu(self.conv2(x)) # 64, 15, 70\n",
    "        # print('conv2', x.size())\n",
    "        x = self.max_pool2(x) # 64, 7, 35\n",
    "        # print('max2', x.size())\n",
    "        \n",
    "        # rnn part\n",
    "        x = x.permute(0,3,1,2) # 35, 64, 7\n",
    "        # print('permute ', x.size())\n",
    "        x = x.view(batch_size, x.size(1), -1)\n",
    "        # print('view ', x.size())\n",
    "        x = self.linear1(x)\n",
    "        x = self.drop1(x)\n",
    "        #print('linear1 ', x.size())\n",
    "        x,_ = self.gru(x)\n",
    "        #print('gru ', x.size())\n",
    "        x = x.permute(1,0,2)\n",
    "        a, bs, b = x.size()\n",
    "        # x = self.fc(x)\n",
    "        # print('fc', x.size())        \n",
    "        outputs = torch.stack([self.fc(x[i]) for i in range(a)])\n",
    "        outputs = F.log_softmax(outputs, dim=2)\n",
    "        \n",
    "        #print('outputs ', outputs.size())\n",
    "        return outputs"
   ]
  },
  {
   "cell_type": "code",
   "execution_count": 51,
   "id": "lyric-carol",
   "metadata": {},
   "outputs": [],
   "source": [
    "net = CaptchaModel().to(device)"
   ]
  },
  {
   "cell_type": "code",
   "execution_count": 44,
   "id": "christian-timothy",
   "metadata": {},
   "outputs": [
    {
     "name": "stdout",
     "output_type": "stream",
     "text": [
      "linear1  torch.Size([1, 35, 64])\n",
      "gru  torch.Size([1, 35, 64])\n",
      "outputs  torch.Size([35, 1, 37])\n"
     ]
    }
   ],
   "source": [
    "e1 = net(a.to(device))"
   ]
  },
  {
   "cell_type": "code",
   "execution_count": 45,
   "id": "metallic-heavy",
   "metadata": {},
   "outputs": [
    {
     "data": {
      "text/plain": [
       "torch.Size([35, 1, 37])"
      ]
     },
     "execution_count": 45,
     "metadata": {},
     "output_type": "execute_result"
    }
   ],
   "source": [
    "e1.shape"
   ]
  },
  {
   "cell_type": "code",
   "execution_count": 48,
   "id": "black-badge",
   "metadata": {},
   "outputs": [],
   "source": [
    "input_lengths = torch.IntTensor(100).fill_(e1.shape[0])"
   ]
  },
  {
   "cell_type": "code",
   "execution_count": 49,
   "id": "neural-circular",
   "metadata": {},
   "outputs": [
    {
     "data": {
      "text/plain": [
       "tensor([35, 35, 35, 35, 35, 35, 35, 35, 35, 35, 35, 35, 35, 35, 35, 35, 35, 35,\n",
       "        35, 35, 35, 35, 35, 35, 35, 35, 35, 35, 35, 35, 35, 35, 35, 35, 35, 35,\n",
       "        35, 35, 35, 35, 35, 35, 35, 35, 35, 35, 35, 35, 35, 35, 35, 35, 35, 35,\n",
       "        35, 35, 35, 35, 35, 35, 35, 35, 35, 35, 35, 35, 35, 35, 35, 35, 35, 35,\n",
       "        35, 35, 35, 35, 35, 35, 35, 35, 35, 35, 35, 35, 35, 35, 35, 35, 35, 35,\n",
       "        35, 35, 35, 35, 35, 35, 35, 35, 35, 35], dtype=torch.int32)"
      ]
     },
     "execution_count": 49,
     "metadata": {},
     "output_type": "execute_result"
    }
   ],
   "source": [
    "input_lengths"
   ]
  },
  {
   "cell_type": "code",
   "execution_count": 15,
   "id": "spiritual-fellow",
   "metadata": {},
   "outputs": [],
   "source": [
    "net2 = StackedLSTM().to(device)\n",
    "h = net2.init_hidden(1)\n",
    "h = tuple([each.data for each in h])\n",
    "\n",
    "a = a.permute(3, 0, 2, 1).contiguous().view((140, 1, -1))"
   ]
  },
  {
   "cell_type": "code",
   "execution_count": 27,
   "id": "israeli-convert",
   "metadata": {},
   "outputs": [],
   "source": [
    "e2, _ = net2(a.to(device), h)"
   ]
  },
  {
   "cell_type": "code",
   "execution_count": 28,
   "id": "liable-donna",
   "metadata": {},
   "outputs": [
    {
     "data": {
      "text/plain": [
       "torch.Size([140, 1, 37])"
      ]
     },
     "execution_count": 28,
     "metadata": {},
     "output_type": "execute_result"
    }
   ],
   "source": [
    "e2.shape"
   ]
  },
  {
   "cell_type": "code",
   "execution_count": 29,
   "id": "american-render",
   "metadata": {},
   "outputs": [],
   "source": [
    "input_lengths = torch.IntTensor(1).fill_(140)"
   ]
  },
  {
   "cell_type": "code",
   "execution_count": 31,
   "id": "funny-craft",
   "metadata": {},
   "outputs": [],
   "source": [
    "targets = b.unsqueeze(0)"
   ]
  },
  {
   "cell_type": "code",
   "execution_count": 32,
   "id": "serial-insurance",
   "metadata": {},
   "outputs": [],
   "source": [
    "target_lengths = torch.IntTensor([len(t) for t in targets])"
   ]
  },
  {
   "cell_type": "code",
   "execution_count": 33,
   "id": "baking-start",
   "metadata": {},
   "outputs": [
    {
     "data": {
      "text/plain": [
       "tensor([8], dtype=torch.int32)"
      ]
     },
     "execution_count": 33,
     "metadata": {},
     "output_type": "execute_result"
    }
   ],
   "source": [
    "target_lengths"
   ]
  },
  {
   "cell_type": "code",
   "execution_count": 34,
   "id": "applied-complaint",
   "metadata": {},
   "outputs": [
    {
     "data": {
      "text/plain": [
       "tensor([[25.,  3., 31., 23., 11., 35., 14., 14.]])"
      ]
     },
     "execution_count": 34,
     "metadata": {},
     "output_type": "execute_result"
    }
   ],
   "source": [
    "out"
   ]
  },
  {
   "cell_type": "code",
   "execution_count": null,
   "id": "qualified-completion",
   "metadata": {},
   "outputs": [],
   "source": []
  }
 ],
 "metadata": {
  "kernelspec": {
   "display_name": "Python 3",
   "language": "python",
   "name": "python3"
  },
  "language_info": {
   "codemirror_mode": {
    "name": "ipython",
    "version": 3
   },
   "file_extension": ".py",
   "mimetype": "text/x-python",
   "name": "python",
   "nbconvert_exporter": "python",
   "pygments_lexer": "ipython3",
   "version": "3.7.4"
  }
 },
 "nbformat": 4,
 "nbformat_minor": 5
}
